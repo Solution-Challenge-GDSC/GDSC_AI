{
  "cells": [
    {
      "cell_type": "code",
      "execution_count": null,
      "metadata": {
        "id": "HxcRNVXRNOJq"
      },
      "outputs": [],
      "source": [
        "import numpy as np\n",
        "import pandas as pd\n",
        "import joblib\n",
        "\n",
        "\n",
        "df = pd.read_excel('/content/model_label_T.xlsx')\n",
        "print(df)"
      ]
    },
    {
      "cell_type": "code",
      "execution_count": null,
      "metadata": {
        "id": "T9cGLPiUNTdP"
      },
      "outputs": [],
      "source": [
        "import numpy as np\n",
        "\n",
        "play_df = df[\"놀이 이름\"].values.tolist()\n",
        "play_list = [play_df for play_df in df['놀이 이름']]\n",
        "\n",
        "print(play_list)\n",
        "\n",
        "info_list = df[['개월 수', '인지', '정서', '언어', '운동', '감각', '야외 활동(0=false/1=true)', '교구 활용(0=false/1=true)']].values.tolist()\n"
      ]
    },
    {
      "cell_type": "code",
      "execution_count": null,
      "metadata": {
        "id": "6sfOITbONYG5"
      },
      "outputs": [],
      "source": [
        "import tensorflow as tf\n",
        "from sklearn.model_selection import train_test_split\n",
        "from sklearn.preprocessing import LabelEncoder\n",
        "import numpy as np\n",
        "\n",
        "# 입력 데이터와 라벨 데이터 준비\n",
        "X = info_list\n",
        "y = play_df\n",
        "\n",
        "# 라벨 인코딩\n",
        "label_encoder = LabelEncoder()\n",
        "y_encoded = label_encoder.fit_transform(y)\n",
        "\n",
        "# 데이터 분할\n",
        "X_train, X_test, y_train, y_test = train_test_split(X, y_encoded, test_size=0.2, random_state=42)\n",
        "\n",
        "X_train = np.array(X_train)\n",
        "X_test = np.array(X_test)\n",
        "\n",
        "# TensorFlow 모델 정의\n",
        "model = tf.keras.Sequential([\n",
        "    tf.keras.layers.Dense(64, activation='relu', input_shape=(X_train.shape[1],)),\n",
        "    tf.keras.layers.Dense(64, activation='relu'),\n",
        "    tf.keras.layers.Dense(len(label_encoder.classes_), activation='softmax')  # 출력 레이어\n",
        "])\n",
        "\n",
        "# 모델 컴파일\n",
        "model.compile(optimizer='adam',\n",
        "              loss='sparse_categorical_crossentropy',\n",
        "              metrics=['accuracy'])\n",
        "\n",
        "# 모델 학습\n",
        "model.fit(X_train, y_train, epochs=50, batch_size=32, verbose=2)\n",
        "\n",
        "# 모델 평가\n",
        "loss, accuracy = model.evaluate(X_test, y_test)\n",
        "print(\"Accuracy:\", accuracy)\n",
        "\n",
        "# 추천 함수 정의\n",
        "def recommend_play(child_info):\n",
        "    # 모델을 통해 추천을 예측\n",
        "    recommended_play_encoded = model.predict(np.array([child_info]))\n",
        "    # 가장 높은 확률을 가진 클래스를 선택하여 디코딩\n",
        "    recommended_play_index = np.argmax(recommended_play_encoded)\n",
        "    recommended_play = label_encoder.inverse_transform([recommended_play_index])\n",
        "    return recommended_play[0]\n",
        "\n",
        "# 아이에게 가장 적합한 놀이 추천\n",
        "child_info = [0, 10, 90, 56, 25, 30, 0, 0]  # 아이의 정보 입력\n",
        "recommended_play = recommend_play(child_info)\n",
        "print(\"Recommended Play:\", recommended_play)\n",
        "\n",
        "\n",
        "joblib.dump(model, 'best_model.pkl')"
      ]
    }
  ],
  "metadata": {
    "colab": {
      "provenance": []
    },
    "kernelspec": {
      "display_name": "Python 3",
      "name": "python3"
    },
    "language_info": {
      "name": "python"
    }
  },
  "nbformat": 4,
  "nbformat_minor": 0
}
